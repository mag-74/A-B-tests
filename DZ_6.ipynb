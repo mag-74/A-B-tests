{
 "cells": [
  {
   "cell_type": "markdown",
   "id": "b00295ab",
   "metadata": {},
   "source": [
    "# Задание №1\n",
    "Продакт на главной mail.ru решил протестировать в рекомендательной ленте контента вместо карточек со статьями видеоплеер с короткими видео. Нынешний таймспент на юзера в день в среднем равен 25 минут, а стандартная ошибка (SD) равна 156. Мы предполагаем, что в новой версии таймспент на юзера в день изменится на 10%. Средний трафик 20000 человек в день. Посчитайте сколько дней необходимо держать эксперимент при alpha = 5% и beta = 20%.\n",
    "\n"
   ]
  },
  {
   "cell_type": "code",
   "execution_count": 3,
   "id": "bcb43d39",
   "metadata": {},
   "outputs": [
    {
     "data": {
      "text/plain": [
       "27.5"
      ]
     },
     "execution_count": 3,
     "metadata": {},
     "output_type": "execute_result"
    }
   ],
   "source": [
    "timespan_per_user_current = 25\n",
    "uplift = 0.1\n",
    "SD = 156\n",
    "timespan_per_user_plan = timespan_per_user_current + timespan_per_user_current * uplift\n",
    "timespan_per_user_plan"
   ]
  },
  {
   "cell_type": "code",
   "execution_count": 6,
   "id": "1ec27e9f",
   "metadata": {},
   "outputs": [
    {
     "data": {
      "text/plain": [
       "10.000000000000009"
      ]
     },
     "execution_count": 6,
     "metadata": {},
     "output_type": "execute_result"
    }
   ],
   "source": [
    "# тупо проверил формулой (много было споров на семинаре))\n",
    "uplift = ((timespan_per_user_plan / timespan_per_user_current) - 1)*100\n",
    "uplift"
   ]
  },
  {
   "cell_type": "markdown",
   "id": "9f1d9bc2",
   "metadata": {},
   "source": [
    "Для оценки необходимого количества дней для проведения эксперимента воспользуемся онлайн-калькулятором (https://www.evanmiller.org/ab-testing/sample-size.html):\n",
    "<img src='dz_6_pict_1.jpg' width=600>"
   ]
  },
  {
   "cell_type": "markdown",
   "id": "5a97bfa5",
   "metadata": {},
   "source": [
    "Умножаем размер выборки на два - итого 9 508. Что более чем в два раза меньше среднего ежедневного трафика пользователей. Т.е., ответ - 1 полный день."
   ]
  },
  {
   "cell_type": "markdown",
   "id": "6e299e85",
   "metadata": {},
   "source": [
    "# Задание №2\n",
    "Наша продуктовая команда в ecommerce магазине планирует запустить тест, направленный на ускорение загрузки сайта. Одна из основных метрик bounce rate в GA = 40%. Мы предполагаем, что при оптимизации сайта она изменится минимум на 20%. Средний трафик 4000 человек в день. Посчитайте сколько нам нужно дней держать эксперимент при alpha = 5% и beta = 20%"
   ]
  },
  {
   "cell_type": "code",
   "execution_count": 7,
   "id": "02e691d7",
   "metadata": {},
   "outputs": [
    {
     "data": {
      "text/plain": [
       "48.0"
      ]
     },
     "execution_count": 7,
     "metadata": {},
     "output_type": "execute_result"
    }
   ],
   "source": [
    "bounce_rate_current = 40\n",
    "uplift = 0.2\n",
    "bounce_rate_plan = bounce_rate_current + bounce_rate_current * uplift\n",
    "bounce_rate_plan"
   ]
  },
  {
   "cell_type": "markdown",
   "id": "4bd3e85d",
   "metadata": {},
   "source": [
    "Для оценки необходимого количества дней для проведения эксперимента воспользуемся тем же онлайн-калькулятором:\n",
    "<img src='dz_6_pict_2.jpg' width=600>"
   ]
  },
  {
   "cell_type": "markdown",
   "id": "cda4e1f8",
   "metadata": {},
   "source": [
    "Итого: 592*2 = 1184. Что снова (что я неправильно делаю?) меньше, чем ежедневный трафик. То есть ответ - 1 полный день."
   ]
  }
 ],
 "metadata": {
  "kernelspec": {
   "display_name": "Python 3 (ipykernel)",
   "language": "python",
   "name": "python3"
  },
  "language_info": {
   "codemirror_mode": {
    "name": "ipython",
    "version": 3
   },
   "file_extension": ".py",
   "mimetype": "text/x-python",
   "name": "python",
   "nbconvert_exporter": "python",
   "pygments_lexer": "ipython3",
   "version": "3.9.13"
  }
 },
 "nbformat": 4,
 "nbformat_minor": 5
}
